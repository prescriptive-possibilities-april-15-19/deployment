{
 "cells": [
  {
   "cell_type": "code",
   "execution_count": 63,
   "metadata": {},
   "outputs": [],
   "source": [
    "import pickle\n",
    "import itertools\n",
    "\n",
    "import pandas as pd\n",
    "import numpy as np\n",
    "\n",
    "import ipywidgets as widgets\n",
    "\n",
    "from sklearn.preprocessing import FunctionTransformer, PolynomialFeatures\n",
    "from sklearn.linear_model import LinearRegression\n",
    "from sklearn.feature_extraction.text import TfidfVectorizer\n",
    "from baggingPU import BaggingClassifierPU\n",
    "from sklearn.tree import DecisionTreeClassifier\n",
    "from sklearn.pipeline import Pipeline, FeatureUnion"
   ]
  },
  {
   "cell_type": "code",
   "execution_count": 64,
   "metadata": {},
   "outputs": [],
   "source": [
    "min_f_count = 2\n",
    "ngram_max = 8\n",
    "max_features = 500\n",
    "estimators = 100"
   ]
  },
  {
   "cell_type": "code",
   "execution_count": 65,
   "metadata": {},
   "outputs": [],
   "source": [
    "class SelectColumn:\n",
    "    def __init__(self, col):\n",
    "        self.col = col\n",
    "    def fit(self, X):\n",
    "        return X[:,self.col]\n",
    "    \n",
    "select_lig = SelectColumn(0)\n",
    "select_seq = SelectColumn(1)\n",
    "\n",
    "pipeline = Pipeline([\n",
    "  ('features', FeatureUnion([\n",
    "    ('preprocess_ligands', Pipeline([\n",
    "        ('select_ligand', FunctionTransformer(select_lig.fit, validate=False)),\n",
    "        ('tfidf_ligand', TfidfVectorizer(lowercase=False, analyzer='char',stop_words=None, ngram_range=(1,ngram_max), min_df=min_f_count, max_features=max_features))\n",
    "    ])),\n",
    "    ('preprocess_sequences', Pipeline([\n",
    "        ('select_sequence', FunctionTransformer(select_seq.fit, validate=False)),\n",
    "        ('tfidf_sequence', TfidfVectorizer(lowercase=False, analyzer='char',stop_words=None, ngram_range=(1,ngram_max), min_df=min_f_count, max_features=max_features))\n",
    "    ]))\n",
    "  ])),\n",
    "  ('PUC', BaggingClassifierPU(DecisionTreeClassifier(), n_estimators=estimators, n_jobs=-1, max_samples=75, verbose=0))\n",
    "])\n"
   ]
  },
  {
   "cell_type": "code",
   "execution_count": 66,
   "metadata": {},
   "outputs": [],
   "source": [
    "df_ligands = pd.read_csv(\"../data/ligands.csv\", index_col=\"id\", usecols=[\"id\", \"SMILES\"])\n",
    "df_sequences = pd.read_csv(\"../data/sequences.csv\", index_col=0)\n",
    "df_binding = pd.read_csv(\"../data/lig2seq.csv\")"
   ]
  },
  {
   "cell_type": "code",
   "execution_count": 67,
   "metadata": {},
   "outputs": [],
   "source": [
    "data = pd.DataFrame(columns=[\"lig_id\", \"SMILES\", \"seq_id\", \"sequence\", \"binding\"])\n",
    "df_binding_temp = df_binding.sample(2000)\n",
    "data[\"lig_id\"] = df_binding_temp[\"lig\"].values\n",
    "data[\"seq_id\"] = df_binding_temp[\"seq\"].values\n",
    "\n",
    "data2 = data.loc[1000:,:]\n",
    "data = data.loc[:999,:]\n",
    "\n",
    "i = 0\n",
    "while data.shape[0] < 10000:\n",
    "    d_temp = pd.DataFrame(columns=[\"lig_id\", \"SMILES\", \"seq_id\", \"sequence\", \"binding\"])\n",
    "    lig_ids = np.random.choice(df_ligands.index.values, 10000-data.shape[0], replace=True)\n",
    "    seq_ids = np.random.choice(df_sequences.index.values, 10000-data.shape[0], replace=True)\n",
    "    d_temp[\"lig_id\"] = lig_ids\n",
    "    d_temp[\"seq_id\"] = seq_ids\n",
    "    data = data.append(d_temp, ignore_index=True).drop_duplicates()\n",
    "    i += 1\n",
    "\n",
    "data[\"SMILES\"] = data[\"lig_id\"].apply(lambda x: df_ligands.loc[x, \"SMILES\"])\n",
    "data[\"sequence\"] = data[\"seq_id\"].apply(lambda x: df_sequences.loc[x, \"sequence\"])\n",
    "\n",
    "data2[\"SMILES\"] = data2[\"lig_id\"].apply(lambda x: df_ligands.loc[x, \"SMILES\"])\n",
    "data2[\"sequence\"] = data2[\"seq_id\"].apply(lambda x: df_sequences.loc[x, \"sequence\"])\n",
    "\n",
    "data.loc[:,\"binding\"] = 0\n",
    "data.loc[:749,\"binding\"] = 1\n",
    "\n",
    "X = data.drop(columns=[\"seq_id\", \"lig_id\", \"binding\"]).values\n",
    "X_test = data2.drop(columns=[\"seq_id\", \"lig_id\", \"binding\"]).values\n",
    "y = data[\"binding\"]"
   ]
  },
  {
   "cell_type": "code",
   "execution_count": 68,
   "metadata": {},
   "outputs": [
    {
     "data": {
      "text/plain": [
       "0.996"
      ]
     },
     "execution_count": 68,
     "metadata": {},
     "output_type": "execute_result"
    }
   ],
   "source": [
    "params = {\n",
    "    \"features__preprocess_ligands__tfidf_ligand__min_df\": 16,\n",
    "    \"features__preprocess_ligands__tfidf_ligand__max_features\": 1000,\n",
    "    \"features__preprocess_sequences__tfidf_sequence__min_df\": 16,\n",
    "    \"features__preprocess_sequences__tfidf_sequence__max_features\": 1000,\n",
    "    \"PUC__n_estimators\": 100\n",
    "}\n",
    "pipeline.set_params(**params)\n",
    "pipeline.fit(X, y)\n",
    "pipeline.predict(X_test).mean()"
   ]
  },
  {
   "cell_type": "code",
   "execution_count": 69,
   "metadata": {},
   "outputs": [
    {
     "data": {
      "text/plain": [
       "0.95008"
      ]
     },
     "execution_count": 69,
     "metadata": {},
     "output_type": "execute_result"
    }
   ],
   "source": [
    "pipeline.predict_proba(X_test)[:,1].mean()"
   ]
  },
  {
   "cell_type": "code",
   "execution_count": 70,
   "metadata": {},
   "outputs": [],
   "source": [
    "import dill\n",
    "\n",
    "with open(\"../models/predict.pk\", \"wb\") as fp:\n",
    "    dill.dump(pipeline, fp)"
   ]
  },
  {
   "cell_type": "code",
   "execution_count": 71,
   "metadata": {},
   "outputs": [
    {
     "name": "stdout",
     "output_type": "stream",
     "text": [
      "0.95008\n"
     ]
    }
   ],
   "source": [
    "with open(\"../models/predict.pk\", \"rb\") as fp:\n",
    "    predict = dill.load(fp)\n",
    "    print(predict.predict_proba(X_test)[:,1].mean())"
   ]
  },
  {
   "cell_type": "code",
   "execution_count": 74,
   "metadata": {},
   "outputs": [
    {
     "data": {
      "text/plain": [
       "array(['CC1CCC(CC1)CN2C3=C(N=C(N=C3N[C@H](C)C4CCC4)C5NC(=O)ON5)N=C2NC(C)C6=CSC(=N6)C',\n",
       "       'SNASGQQVHRLLGNKLELASTGQTIYHQDINLNNHPWIGDHRVYDTPVIPGVSYIAMTLAAVGVPAAVEDINFQQPLFLAESNTTRETQLMLHTADNVGKQFVEVFSRDGAKQEEWQQHASMSVSENPPPPPTLSVDIPALCEQLRPLDTDTLTEIYASISLVYGPMLQAVRQAWIGEETSLLEIEVPKALAFQLAGEPIHPVLIDACTRLTPDLFDFSSDSGVFWAPWRVKEMTLSHPTPSRFYAYVEEPSRVNEQLQTRSYDIQLLDETGQAFGRINGFTVKRAPSQLFLK'],\n",
       "      dtype=object)"
      ]
     },
     "execution_count": 74,
     "metadata": {},
     "output_type": "execute_result"
    }
   ],
   "source": [
    "X_test[0]"
   ]
  },
  {
   "cell_type": "code",
   "execution_count": 75,
   "metadata": {},
   "outputs": [
    {
     "data": {
      "text/plain": [
       "0.99"
      ]
     },
     "execution_count": 75,
     "metadata": {},
     "output_type": "execute_result"
    }
   ],
   "source": [
    "pipeline.predict_proba(X_test[[0],:])[:,1].mean()"
   ]
  },
  {
   "cell_type": "code",
   "execution_count": null,
   "metadata": {},
   "outputs": [],
   "source": []
  }
 ],
 "metadata": {
  "kernelspec": {
   "display_name": "conda_tensorflow_p36",
   "language": "python",
   "name": "conda_tensorflow_p36"
  },
  "language_info": {
   "codemirror_mode": {
    "name": "ipython",
    "version": 3
   },
   "file_extension": ".py",
   "mimetype": "text/x-python",
   "name": "python",
   "nbconvert_exporter": "python",
   "pygments_lexer": "ipython3",
   "version": "3.6.5"
  }
 },
 "nbformat": 4,
 "nbformat_minor": 2
}
